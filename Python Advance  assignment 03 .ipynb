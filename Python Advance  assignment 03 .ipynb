{
 "cells": [
  {
   "cell_type": "raw",
   "id": "88ffb5dd",
   "metadata": {},
   "source": [
    "1. What is the concept of an abstract superclass?"
   ]
  },
  {
   "cell_type": "raw",
   "id": "acfc971d",
   "metadata": {},
   "source": [
    "ans: Abstract super class.A common superclass for several subclasses. factor up common behaviour. Define the methods they all resposnd to. Methods that subclasses should implement are declared abstract. "
   ]
  },
  {
   "cell_type": "code",
   "execution_count": 7,
   "id": "e22e2f0c",
   "metadata": {},
   "outputs": [],
   "source": [
    "class test:\n",
    "    def __init__(self, a,b,c,d):\n",
    "        self.__a = a\n",
    "        self.b = b\n",
    "        self.c = c\n",
    "        self.d = d\n",
    "        \n",
    "    def test_custome (self,v):\n",
    "        return v - self.__a\n",
    "    \n",
    "    def __str__(self):\n",
    "        return \"this is my test code for abstracion\""
   ]
  },
  {
   "cell_type": "code",
   "execution_count": 9,
   "id": "926b3eab",
   "metadata": {},
   "outputs": [
    {
     "name": "stdout",
     "output_type": "stream",
     "text": [
      "4\n",
      "5\n",
      "6\n",
      "5\n",
      "3\n"
     ]
    }
   ],
   "source": [
    "class test1(test):\n",
    "    def __init__(self, j , *args):\n",
    "        super (test1,self).__init__(*args)\n",
    "        self.j = j\n",
    "        \n",
    "m = test1(2,3,4,5,6)\n",
    "print(m.b)\n",
    "print(m.c)\n",
    "print(m.d)\n",
    "print(m.test_custome(8))\n",
    "print(m._test__a)"
   ]
  },
  {
   "cell_type": "code",
   "execution_count": null,
   "id": "bdd0c8d6",
   "metadata": {},
   "outputs": [],
   "source": []
  },
  {
   "cell_type": "code",
   "execution_count": null,
   "id": "f2a426a2",
   "metadata": {},
   "outputs": [],
   "source": []
  },
  {
   "cell_type": "raw",
   "id": "ab692cfa",
   "metadata": {},
   "source": [
    "2. What happens when a class statement's top level contains a basic assignment statement?"
   ]
  },
  {
   "cell_type": "raw",
   "id": "28bb7b34",
   "metadata": {},
   "source": [
    "ans: when a class statements top level contains a basic assignment they are considered as class attributes and can be used by function functions inside a class be called by reating a class object."
   ]
  },
  {
   "cell_type": "code",
   "execution_count": 14,
   "id": "e04dc18d",
   "metadata": {},
   "outputs": [
    {
     "name": "stdout",
     "output_type": "stream",
     "text": [
      "mammal\n",
      "I m a mammal\n",
      "I m a cat\n"
     ]
    }
   ],
   "source": [
    "class cat:\n",
    "    attr1 = \"mammal\"\n",
    "    attr2 = \"cat\"\n",
    "    \n",
    "    def fun(self):\n",
    "        print(\"I m a\", self.attr1)\n",
    "        print(\"I m a\", self.attr2)\n",
    "        \n",
    "Rodger = cat()\n",
    "\n",
    "print(Rodger.attr1)\n",
    "Rodger.fun()"
   ]
  },
  {
   "cell_type": "code",
   "execution_count": null,
   "id": "8ff17fe6",
   "metadata": {},
   "outputs": [],
   "source": []
  },
  {
   "cell_type": "code",
   "execution_count": null,
   "id": "e3c392c7",
   "metadata": {},
   "outputs": [],
   "source": []
  },
  {
   "cell_type": "raw",
   "id": "a051deb2",
   "metadata": {},
   "source": [
    "3. Why does a class need to manually call a superclass __init__ method?"
   ]
  },
  {
   "cell_type": "raw",
   "id": "88a375b8",
   "metadata": {},
   "source": [
    "ans: It's beacuse one needs to define something that is not done in the base class init, and the only possibility to obtain that is to put its execution in a derived class init function."
   ]
  },
  {
   "cell_type": "code",
   "execution_count": null,
   "id": "943f4480",
   "metadata": {},
   "outputs": [],
   "source": []
  },
  {
   "cell_type": "code",
   "execution_count": null,
   "id": "ccdbc07c",
   "metadata": {},
   "outputs": [],
   "source": []
  },
  {
   "cell_type": "raw",
   "id": "debcfa37",
   "metadata": {},
   "source": [
    "4. How can you augment, instead of completely replacing, an inherited method?"
   ]
  },
  {
   "cell_type": "raw",
   "id": "8d29d9f8",
   "metadata": {},
   "source": [
    "ans: In python to override a method provieded by an ancestor class, we have when to call its original implementation. This gives the programmer the  freedom to decide whether they need to just augment a method or to replacd it completely."
   ]
  },
  {
   "cell_type": "code",
   "execution_count": 2,
   "id": "6efdf6c9",
   "metadata": {},
   "outputs": [],
   "source": [
    "class graphicalentity:\n",
    "    def __init__(self,pos_x,pos_y,size_x,size_y):\n",
    "        self.pos_x = pos_x\n",
    "        self.pos_y = pos_y\n",
    "        self.size_x = size_x\n",
    "        self.size_y = size_y\n",
    "        \n",
    "    def move (self,pos_x,pos_y):\n",
    "        self.pos_x = pos_x\n",
    "        self.pos_y = pos_y\n",
    "        \n",
    "    def resize(self,sizee_x,size_y):\n",
    "        self.size_x = size_x\n",
    "        self.size_y = size_y\n",
    "        \n",
    "        \n",
    "class rectangle(graphicalentity):\n",
    "    pass\n",
    "class square(graphicalentity):\n",
    "    def __init__(self,pos_x,pos_y,size):\n",
    "        super().__init__(pos_x,pos_y,size,size)\n",
    "        \n",
    "    def resize(self,size):\n",
    "        super().resize(size,)"
   ]
  },
  {
   "cell_type": "code",
   "execution_count": 3,
   "id": "b7184f76",
   "metadata": {},
   "outputs": [],
   "source": [
    "r1 = rectangle(100,200,15,30)\n",
    "r1 = rectangle(150,280,23,55)\n",
    "q1 = square(300,400,50)"
   ]
  },
  {
   "cell_type": "code",
   "execution_count": null,
   "id": "0815012e",
   "metadata": {},
   "outputs": [],
   "source": []
  },
  {
   "cell_type": "code",
   "execution_count": null,
   "id": "83219239",
   "metadata": {},
   "outputs": [],
   "source": []
  },
  {
   "cell_type": "raw",
   "id": "6a11ee01",
   "metadata": {},
   "source": [
    "5. How is the local scope of a class different from that of a function?"
   ]
  },
  {
   "cell_type": "raw",
   "id": "2fa34f0f",
   "metadata": {},
   "source": [
    "ans: local scope: local scope is a kind of block scope which are only visible from their point of declaration to the end of the function or lambda body\n",
    "\n",
    "class scope: names of class members have class scope, which extends throughout the class definition regardiess of the point of declaration."
   ]
  },
  {
   "cell_type": "code",
   "execution_count": null,
   "id": "d00bf069",
   "metadata": {},
   "outputs": [],
   "source": []
  },
  {
   "cell_type": "code",
   "execution_count": null,
   "id": "97d600bb",
   "metadata": {},
   "outputs": [],
   "source": []
  }
 ],
 "metadata": {
  "kernelspec": {
   "display_name": "Python 3",
   "language": "python",
   "name": "python3"
  },
  "language_info": {
   "codemirror_mode": {
    "name": "ipython",
    "version": 3
   },
   "file_extension": ".py",
   "mimetype": "text/x-python",
   "name": "python",
   "nbconvert_exporter": "python",
   "pygments_lexer": "ipython3",
   "version": "3.8.8"
  }
 },
 "nbformat": 4,
 "nbformat_minor": 5
}
